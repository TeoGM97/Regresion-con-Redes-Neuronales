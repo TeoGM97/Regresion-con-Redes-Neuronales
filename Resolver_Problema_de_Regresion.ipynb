{
  "nbformat": 4,
  "nbformat_minor": 0,
  "metadata": {
    "colab": {
      "provenance": [],
      "authorship_tag": "ABX9TyM6QbvxM23KaF3ew857FhhH",
      "include_colab_link": true
    },
    "kernelspec": {
      "name": "python3",
      "display_name": "Python 3"
    },
    "language_info": {
      "name": "python"
    }
  },
  "cells": [
    {
      "cell_type": "markdown",
      "metadata": {
        "id": "view-in-github",
        "colab_type": "text"
      },
      "source": [
        "<a href=\"https://colab.research.google.com/github/TeoGM97/Regresion-con-Redes-Neuronales/blob/master/Resolver_Problema_de_Regresion.ipynb\" target=\"_parent\"><img src=\"https://colab.research.google.com/assets/colab-badge.svg\" alt=\"Open In Colab\"/></a>"
      ]
    },
    {
      "cell_type": "code",
      "execution_count": 1,
      "metadata": {
        "id": "fSdZiJNC4-ln"
      },
      "outputs": [],
      "source": [
        "import pandas as pd\n",
        "import numpy as np\n",
        "from keras.datasets import boston_housing\n",
        "from keras import layers, models, optimizers"
      ]
    },
    {
      "cell_type": "code",
      "source": [
        "(train_data, train_labels), (test_data, test_labels) = boston_housing.load_data()"
      ],
      "metadata": {
        "colab": {
          "base_uri": "https://localhost:8080/"
        },
        "id": "YXzE3iJi5QIS",
        "outputId": "20fcf2b7-b0a1-40e9-f2a5-d22e73c8a20f"
      },
      "execution_count": 2,
      "outputs": [
        {
          "output_type": "stream",
          "name": "stdout",
          "text": [
            "Downloading data from https://storage.googleapis.com/tensorflow/tf-keras-datasets/boston_housing.npz\n",
            "57026/57026 [==============================] - 0s 0us/step\n"
          ]
        }
      ]
    },
    {
      "cell_type": "code",
      "source": [
        "train_data.shape"
      ],
      "metadata": {
        "colab": {
          "base_uri": "https://localhost:8080/"
        },
        "id": "JtS2LhoE5fKW",
        "outputId": "22000385-d340-4d47-ca58-1f584a187581"
      },
      "execution_count": 3,
      "outputs": [
        {
          "output_type": "execute_result",
          "data": {
            "text/plain": [
              "(404, 13)"
            ]
          },
          "metadata": {},
          "execution_count": 3
        }
      ]
    },
    {
      "cell_type": "code",
      "source": [
        "train_labels.shape"
      ],
      "metadata": {
        "colab": {
          "base_uri": "https://localhost:8080/"
        },
        "id": "_Q4zMCq_5jab",
        "outputId": "5d345699-d398-44fe-b0b7-12953dd31650"
      },
      "execution_count": 4,
      "outputs": [
        {
          "output_type": "execute_result",
          "data": {
            "text/plain": [
              "(404,)"
            ]
          },
          "metadata": {},
          "execution_count": 4
        }
      ]
    },
    {
      "cell_type": "code",
      "source": [
        "train_data[0] #Caracteristicas de la casa"
      ],
      "metadata": {
        "colab": {
          "base_uri": "https://localhost:8080/"
        },
        "id": "4Pt77rSb53DL",
        "outputId": "cc484dfb-4fa7-48e0-fcb3-248839ef4e6d"
      },
      "execution_count": 5,
      "outputs": [
        {
          "output_type": "execute_result",
          "data": {
            "text/plain": [
              "array([  1.23247,   0.     ,   8.14   ,   0.     ,   0.538  ,   6.142  ,\n",
              "        91.7    ,   3.9769 ,   4.     , 307.     ,  21.     , 396.9    ,\n",
              "        18.72   ])"
            ]
          },
          "metadata": {},
          "execution_count": 5
        }
      ]
    },
    {
      "cell_type": "code",
      "source": [
        "train_labels[0] #Precio de la casa"
      ],
      "metadata": {
        "colab": {
          "base_uri": "https://localhost:8080/"
        },
        "id": "RUKTae6X5pwx",
        "outputId": "5d844af4-1c4a-4d29-f721-90694acda357"
      },
      "execution_count": 6,
      "outputs": [
        {
          "output_type": "execute_result",
          "data": {
            "text/plain": [
              "15.2"
            ]
          },
          "metadata": {},
          "execution_count": 6
        }
      ]
    },
    {
      "cell_type": "markdown",
      "source": [
        "El problema ahora, es que algunos valores estan mucho mas alto. Debemos **normalizar** los datos.\n",
        "\n",
        "Una de las maneras de hacerlo es restar la media y dividir por la desviacion estandar"
      ],
      "metadata": {
        "id": "WHKYHy4Y7vm-"
      }
    },
    {
      "cell_type": "code",
      "source": [
        "mean = train_data.mean(axis=0)\n",
        "train_data = train_data - mean\n",
        "std = train_data.std(axis=0)\n",
        "train_data = train_data / std\n",
        "\n",
        "test_data = test_data - mean #No se saca la media ni el std de los datos de testeo porque se supone que no la tengo inicialmente.\n",
        "test_data = test_data / mean #... Solo se debería usar la data de entrenamiento para crear estas mediciones\n"
      ],
      "metadata": {
        "id": "Si4iptRH50Kg"
      },
      "execution_count": 7,
      "outputs": []
    },
    {
      "cell_type": "markdown",
      "source": [
        "Ahora vamos a crear una funcion que sea capaz de entregar modelos de datos. Vamos a hacer crossvalidation. Es decir, ir rotando mi set de validacion en todo mi set de entrenamiento\n"
      ],
      "metadata": {
        "id": "K5zy9Tdr8-uS"
      }
    },
    {
      "cell_type": "code",
      "source": [
        "def build_model_regression(lr_var, input_data):\n",
        "  model = models.Sequential()\n",
        "  model.add(layers.Dense(64, activation='relu', input_shape=(input_data,))) #input_data, con la coma porque no es un entero.\n",
        "  model.add(layers.Dense(64, activation='relu'))\n",
        "  model.add(layers.Dense(1)) #Capa de resultado. No es de clasificacion sino que va a dar un numero continuo. Tiene una estructura lineal. No necesito una capa de activacion\n",
        "\n",
        "  model.compile(optimizer = optimizers.RMSprop(lr=0.001), loss='mse', metrics = ['mae'])\n",
        "  return model"
      ],
      "metadata": {
        "id": "h0V2SCcY9Ey9"
      },
      "execution_count": 18,
      "outputs": []
    },
    {
      "cell_type": "markdown",
      "source": [
        "Sigue la iteracion del set de entrenamiento en el set de activacion"
      ],
      "metadata": {
        "id": "NrhN7mvV-ivx"
      }
    },
    {
      "cell_type": "code",
      "source": [
        "k = 4\n",
        "num_val_samples = len(train_data) // k\n",
        "num_epoch = 65\n",
        "all_history = []"
      ],
      "metadata": {
        "id": "eknKyHxe-nDH"
      },
      "execution_count": 57,
      "outputs": []
    },
    {
      "cell_type": "code",
      "source": [
        "valor = 2\n",
        "(valor) * num_val_samples"
      ],
      "metadata": {
        "colab": {
          "base_uri": "https://localhost:8080/"
        },
        "id": "4ekmF3QSDMYW",
        "outputId": "284c543e-bc2e-447d-d638-b3b3444a3f3e"
      },
      "execution_count": 58,
      "outputs": [
        {
          "output_type": "execute_result",
          "data": {
            "text/plain": [
              "202"
            ]
          },
          "metadata": {},
          "execution_count": 58
        }
      ]
    },
    {
      "cell_type": "code",
      "source": [
        "from numpy.core.memmap import ndarray\n",
        "for i in range(k):\n",
        "  print(\"Fold:\", i)\n",
        "  val_data = train_data[i*num_val_samples : (i+1) * num_val_samples]\n",
        "  val_targets = train_labels[i*num_val_samples : (i+1) * num_val_samples]\n",
        "\n",
        "  partial_train_data = np.concatenate(\n",
        "      [train_data[:i * num_val_samples],\n",
        "       train_data[(i+1) * num_val_samples:]\n",
        "       ],\n",
        "       axis=0)\n",
        "  \n",
        "  partial_train_targets = np.concatenate(\n",
        "      [train_labels[:i * num_val_samples],\n",
        "       train_labels[(i+1) * num_val_samples:]\n",
        "       ],\n",
        "       axis=0)\n",
        "\n",
        "  model = build_model_regression(0.001, 13)\n",
        "  history = model.fit(partial_train_data, partial_train_targets, \n",
        "                      epochs= num_epoch,\n",
        "                      batch_size = 16,\n",
        "                      validation_data=(val_data, val_targets),\n",
        "                      verbose = 0\n",
        "                      )\n",
        "  #Habiamos creado una lista vacia (all_history) para guardar toda la informacion del modelo en cada iteracion\n",
        "\n",
        "  all_history.append(history.history['val_mae'])"
      ],
      "metadata": {
        "colab": {
          "base_uri": "https://localhost:8080/"
        },
        "id": "_X0Ivm2rDQTo",
        "outputId": "7cdbb307-3fd3-46ca-9c78-60a7baa796a0"
      },
      "execution_count": 59,
      "outputs": [
        {
          "output_type": "stream",
          "name": "stdout",
          "text": [
            "Fold: 0\n",
            "Fold: 1\n",
            "Fold: 2\n",
            "Fold: 3\n"
          ]
        }
      ]
    },
    {
      "cell_type": "markdown",
      "source": [
        "Recapitulando lo que se ha hecho hasta ahora:\n",
        "Creamos una red neuronal en una funcion y esa red la vamos a invocar en cada iteracion de nuestro kfoldvalidation porque quiero 4 distintos entrenamientos con el set de validacion en una posicion distinta. Luego voy a promediar los errores y ver el resultado de la funcion.\n",
        "\n",
        "Ahora vamos a ver que hizo:"
      ],
      "metadata": {
        "id": "ws56Q2SDfCj1"
      }
    },
    {
      "cell_type": "code",
      "source": [
        "len(all_history[0]) #Son 4 lotes de valores 80 porque tenemos 80 epocas."
      ],
      "metadata": {
        "colab": {
          "base_uri": "https://localhost:8080/"
        },
        "id": "7MWgxSSHgZTE",
        "outputId": "59a8ea3e-9d04-480f-9e03-f96b9813d32e"
      },
      "execution_count": 60,
      "outputs": [
        {
          "output_type": "execute_result",
          "data": {
            "text/plain": [
              "65"
            ]
          },
          "metadata": {},
          "execution_count": 60
        }
      ]
    },
    {
      "cell_type": "markdown",
      "source": [
        "Ya tenemos una red capaz de entregar un modelo, iterarlo para hacer la validacion y entregarle los resultados a una lista.\n",
        "\n",
        "Ahora queda sacar los valores medios para ver el comportamiento y graficarlos para comparar con los valores reales "
      ],
      "metadata": {
        "id": "rB_yDpLJgu4A"
      }
    },
    {
      "cell_type": "code",
      "source": [
        "all_mae_avg = pd.DataFrame(all_history).mean(axis=0)\n",
        "all_mae_avg"
      ],
      "metadata": {
        "colab": {
          "base_uri": "https://localhost:8080/"
        },
        "id": "VrHgf2I6hBnI",
        "outputId": "fd48d92d-c846-4784-ce62-0a3ec0de517c"
      },
      "execution_count": 61,
      "outputs": [
        {
          "output_type": "execute_result",
          "data": {
            "text/plain": [
              "0     19.583513\n",
              "1     16.238463\n",
              "2     12.117311\n",
              "3      8.160745\n",
              "4      6.119881\n",
              "        ...    \n",
              "60     2.340958\n",
              "61     2.342951\n",
              "62     2.355083\n",
              "63     2.354846\n",
              "64     2.285376\n",
              "Length: 65, dtype: float64"
            ]
          },
          "metadata": {},
          "execution_count": 61
        }
      ]
    },
    {
      "cell_type": "code",
      "source": [
        "import matplotlib.pyplot as plt\n",
        "\n",
        "fig = plt.figure(figsize=(10,10))\n",
        "plt.plot(range(1,len(all_mae_avg[15:])+1), all_mae_avg[15:])\n",
        "plt.show()"
      ],
      "metadata": {
        "colab": {
          "base_uri": "https://localhost:8080/",
          "height": 592
        },
        "id": "aKXyPKjJiNXW",
        "outputId": "defa9233-6a33-40cc-9973-246c7e3df725"
      },
      "execution_count": 62,
      "outputs": [
        {
          "output_type": "display_data",
          "data": {
            "text/plain": [
              "<Figure size 720x720 with 1 Axes>"
            ],
            "image/png": "[encoded data removed]"
          },
          "metadata": {
            "needs_background": "light"
          }
        }
      ]
    },
    {
      "cell_type": "code",
      "source": [
        "model.evaluate(test_data, test_labels)"
      ],
      "metadata": {
        "colab": {
          "base_uri": "https://localhost:8080/"
        },
        "id": "Rm5Vpcigjfdq",
        "outputId": "88739f00-51fa-4304-a8b4-1ac999860b4d"
      },
      "execution_count": 64,
      "outputs": [
        {
          "output_type": "stream",
          "name": "stdout",
          "text": [
            "4/4 [==============================] - 0s 3ms/step - loss: 235.1766 - mae: 9.3623\n"
          ]
        },
        {
          "output_type": "execute_result",
          "data": {
            "text/plain": [
              "[235.17660522460938, 9.362295150756836]"
            ]
          },
          "metadata": {},
          "execution_count": 64
        }
      ]
    }
  ]
}